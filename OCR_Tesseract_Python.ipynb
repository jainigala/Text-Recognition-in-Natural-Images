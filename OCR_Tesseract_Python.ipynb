{
  "nbformat": 4,
  "nbformat_minor": 0,
  "metadata": {
    "colab": {
      "name": "OCR-Tesseract-Python.ipynb",
      "provenance": [],
      "collapsed_sections": [
        "0GHxCcNS3EhN",
        "qzkn3o9H3QIc"
      ]
    },
    "kernelspec": {
      "name": "python3",
      "display_name": "Python 3"
    },
    "accelerator": "GPU"
  },
  "cells": [
    {
      "metadata": {
        "id": "Eu9Yihr34MUj"
      },
      "cell_type": "markdown",
      "source": [
        "#Introduction\n",
        "**The aim of this NoteBook is to be able to recognise text from an image file using the Tesseract Library in the Python Programming Language.**\n",
        "\n",
        "**Tesseract is an Open Source library for Optical Character recognition(OCR). We will be using PyTesseract to print the recognized text given an input image of any of  the following formats\n",
        ": jpeg, png, gif, bmp, tiff, and others. **\n"
      ]
    },
    {
      "metadata": {
        "id": "4-yKpihT25p8"
      },
      "cell_type": "markdown",
      "source": [
        "# Installation"
      ]
    },
    {
      "metadata": {
        "id": "Iup9C5Lon-g0",
        "outputId": "f8a12ff1-082a-4e2c-901b-8ecdd470e6df",
        "colab": {
          "base_uri": "https://localhost:8080/"
        }
      },
      "cell_type": "code",
      "source": [
        "!sudo add-apt-repository ppa:alex-p/tesseract-ocr"
      ],
      "execution_count": null,
      "outputs": [
        {
          "output_type": "stream",
          "name": "stdout",
          "text": [
            "  The Tesseract OCR engine was one of the top 3 engines in the 1995\n",
            " UNLV Accuracy test. Between 1995 and 2006 it had little work done on\n",
            " it, but since then it has been improved extensively by Google and is\n",
            " probably one of the most accurate open source OCR engines\n",
            " available. It can read a wide variety of image formats and convert\n",
            " them to text in over 40 languages. This package includes the command\n",
            " line tool.\n",
            " More info: https://launchpad.net/~alex-p/+archive/ubuntu/tesseract-ocr\n",
            "Press [ENTER] to continue or Ctrl-c to cancel adding it.\n"
          ]
        }
      ]
    },
    {
      "metadata": {
        "id": "RxADPcEA39z-"
      },
      "cell_type": "code",
      "source": [
        "!sudo apt-get update"
      ],
      "execution_count": null,
      "outputs": []
    },
    {
      "metadata": {
        "id": "bOQf0ryh3_8d"
      },
      "cell_type": "code",
      "source": [
        "!sudo apt install tesseract-ocr"
      ],
      "execution_count": null,
      "outputs": []
    },
    {
      "metadata": {
        "id": "qUkfdeTq4Bta"
      },
      "cell_type": "code",
      "source": [
        "!sudo apt install libtesseract-dev"
      ],
      "execution_count": null,
      "outputs": []
    },
    {
      "metadata": {
        "id": "8gSJiO8E4DT6"
      },
      "cell_type": "code",
      "source": [
        "!sudo pip install pytesseract"
      ],
      "execution_count": null,
      "outputs": []
    },
    {
      "metadata": {
        "id": "4DmjENFFpd9w"
      },
      "cell_type": "code",
      "source": [
        "#Checking the installation.\n",
        "!tesseract --version"
      ],
      "execution_count": null,
      "outputs": []
    },
    {
      "metadata": {
        "id": "0GHxCcNS3EhN"
      },
      "cell_type": "markdown",
      "source": [
        "# Image Downloader"
      ]
    },
    {
      "metadata": {
        "id": "OUU2ixCpva_L"
      },
      "cell_type": "code",
      "source": [
        "#Image Downloader(From previous video.)\n",
        "import requests\n",
        "\n",
        "print ('Starting to Download!')\n",
        "\n",
        "url = 'http://zone1-af2a.kxcdn.com/wp-content/uploads/life-quotes-that-will-change-you-forever-wisdom-quotes.jpg'\n",
        "r = requests.get(url)\n",
        "\n",
        "filename = '2.jpg'\n",
        "\n",
        "with open(filename, 'wb') as out_file:\n",
        "    out_file.write(r.content)\n",
        "\n",
        "print(\"Download complete!\")"
      ],
      "execution_count": null,
      "outputs": []
    },
    {
      "metadata": {
        "id": "dvyFYwR7zZ59"
      },
      "cell_type": "markdown",
      "source": [
        "#TESTING 5 Images\n",
        "\n",
        "\n",
        "---\n",
        "\n",
        "\n",
        "#IMAGE 1\n",
        " \n",
        " ![alt text](https://encrypted-tbn0.gstatic.com/images?q=tbn:ANd9GcT6z5vTpAMfE1xjxV7rrZ726lWoMARenCftjVxH4_HPEykFfAiK)\n",
        "\n",
        "\n",
        "---\n",
        "\n",
        "\n",
        "#IMAGE 2\n",
        "\n",
        "![alt text](http://pun.me/pages/funny-quote-about-life.jpg)\n",
        "\n",
        "---\n",
        "\n",
        "#IMAGE 3\n",
        "\n",
        "![alt text](https://i.pinimg.com/originals/38/0b/87/380b87f345c48637cee8ff05d872fd60.png)\n",
        "\n",
        "---\n",
        "\n",
        "#IMAGE 4\n",
        "![alt text](https://i.pinimg.com/originals/5a/bc/0f/5abc0feb32c88c9626afb7f8aedaea2f.jpg)\n",
        "\n",
        "---\n",
        "\n",
        "\n",
        "#IMAGE 5\n",
        "![alt text](http://quotesideas.com/wp-content/uploads/2015/03/nice-motivational-inspirational-quotes-thoughts-achieves-possible-great-best.jpg)\n",
        "\n",
        "---\n"
      ]
    },
    {
      "metadata": {
        "id": "qzkn3o9H3QIc"
      },
      "cell_type": "markdown",
      "source": [
        "# Final Code"
      ]
    },
    {
      "metadata": {
        "id": "jTrX8LtltFgX",
        "outputId": "f3021430-383c-4e04-fd02-7a058359c91a",
        "colab": {
          "base_uri": "https://localhost:8080/",
          "height": 102
        }
      },
      "cell_type": "code",
      "source": [
        "import cv2\n",
        "import numpy as np\n",
        "import pytesseract\n",
        "from PIL import Image\n",
        "\n",
        "# Path of working folder on Disk\n",
        "\n",
        "def get_string(img_path):\n",
        "    # Read image with opencv\n",
        "    img = cv2.imread(img_path)\n",
        "\n",
        "    # Convert to gray\n",
        "    img = cv2.cvtColor(img, cv2.COLOR_BGR2GRAY)\n",
        "\n",
        "    # Apply dilation and erosion to remove some noise\n",
        "    kernel = np.ones((1, 1), np.uint8)\n",
        "    img = cv2.dilate(img, kernel, iterations=1)\n",
        "    img = cv2.erode(img, kernel, iterations=1)\n",
        "\n",
        "    # Write image after removed noise\n",
        "    cv2.imwrite(\"removed_noise.png\", img)\n",
        "\n",
        "    #  Apply threshold to get image with only black and white\n",
        "    #img = cv2.adaptiveThreshold(img, 255, cv2.ADAPTIVE_THRESH_GAUSSIAN_C, cv2.THRESH_BINARY, 31, 2)\n",
        "\n",
        "    # Write the image after apply opencv to do some ...\n",
        "    cv2.imwrite(img_path, img)\n",
        "\n",
        "    # Recognize text with tesseract for python\n",
        "    result = pytesseract.image_to_string(Image.open(img_path))\n",
        "\n",
        "    # Remove template file\n",
        "    #os.remove(temp)\n",
        "\n",
        "    return result\n",
        "\n",
        "\n",
        "print ('--- Start recognize text from image ---')\n",
        "print (get_string(filename))\n",
        "\n",
        "print (\"------ Done -------\")"
      ],
      "execution_count": null,
      "outputs": [
        {
          "output_type": "stream",
          "text": [
            " "
          ],
          "name": "stdout"
        }
      ]
    }
  ]
}